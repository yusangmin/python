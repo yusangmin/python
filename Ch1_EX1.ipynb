{
  "nbformat": 4,
  "nbformat_minor": 0,
  "metadata": {
    "colab": {
      "name": "Ch1_EX1.ipynb",
      "provenance": [],
      "authorship_tag": "ABX9TyO2N81J26BAQSCaf2Bofdqq",
      "include_colab_link": true
    },
    "kernelspec": {
      "name": "python3",
      "display_name": "Python 3"
    },
    "language_info": {
      "name": "python"
    }
  },
  "cells": [
    {
      "cell_type": "markdown",
      "metadata": {
        "id": "view-in-github",
        "colab_type": "text"
      },
      "source": [
        "<a href=\"https://colab.research.google.com/github/yusangmin/python/blob/main/Ch1_EX1.ipynb\" target=\"_parent\"><img src=\"https://colab.research.google.com/assets/colab-badge.svg\" alt=\"Open In Colab\"/></a>"
      ]
    },
    {
      "cell_type": "markdown",
      "metadata": {
        "id": "Jm-ReXwC7F0C"
      },
      "source": [
        "제1장 파이썬의 소개 연습문제\n"
      ]
    },
    {
      "cell_type": "markdown",
      "metadata": {
        "id": "UypFV1sv7WjR"
      },
      "source": [
        "문제 1  \"환영합니다.\", \"파이썬의 세계에 오신 것을 환영합니다.\", \"파이썬은 강력합니다.\"를 화면에 출력하는 프로그램을 작성하시오."
      ]
    },
    {
      "cell_type": "code",
      "metadata": {
        "id": "RYTOoyKq6tcn"
      },
      "source": [
        "print(\"환영합니다.\")\n",
        "print(\"파이썬의 세계에 오신 것을 환영합니다.\")\n",
        "print(\"파이썬은 강력합니다.\")"
      ],
      "execution_count": null,
      "outputs": []
    },
    {
      "cell_type": "markdown",
      "metadata": {
        "id": "eydXkk9B7nFe"
      },
      "source": [
        "문제 2 다음 프로그램의 실행 결과를 쓰시오.\n",
        "  print(\"반갑습니다. 파이썬!\")\n",
        "  print(2*3/10)\n",
        "  print(\"Hello\", \"world\", \"!!!\")"
      ]
    },
    {
      "cell_type": "code",
      "metadata": {
        "id": "lPtYOHS-7lop"
      },
      "source": [
        " print(\"반갑습니다. 파이썬!\")\n",
        " print(2*3/10)\n",
        " print(\"Hello\", \"world\", \"!!!\")"
      ],
      "execution_count": null,
      "outputs": []
    },
    {
      "cell_type": "markdown",
      "metadata": {
        "id": "7KeLO9f18zHV"
      },
      "source": [
        "문제 3 파이선을 사용하여서 한 주가 몇 시간에 해당하는지 계산하라."
      ]
    },
    {
      "cell_type": "code",
      "metadata": {
        "id": "IAEuxyWc88bu"
      },
      "source": [
        "print(7*24)"
      ],
      "execution_count": null,
      "outputs": []
    },
    {
      "cell_type": "markdown",
      "metadata": {
        "id": "De5tdknp9EZy"
      },
      "source": [
        "문제 4 터틀 그래픽에서 거북이를 이동시켜서 그림과 같이 그려보자. forward()와 right(), left()함수만 사용하라        -----------> colab에서는 turtle graphic을 사용할수 없습니다."
      ]
    }
  ]
}