{
  "nbformat": 4,
  "nbformat_minor": 0,
  "metadata": {
    "colab": {
      "name": "Ch2_EX1.ipynb",
      "provenance": [],
      "authorship_tag": "ABX9TyO+WtBi20zaitPpNcAIp5vg",
      "include_colab_link": true
    },
    "kernelspec": {
      "name": "python3",
      "display_name": "Python 3"
    },
    "language_info": {
      "name": "python"
    }
  },
  "cells": [
    {
      "cell_type": "markdown",
      "metadata": {
        "id": "view-in-github",
        "colab_type": "text"
      },
      "source": [
        "<a href=\"https://colab.research.google.com/github/yusangmin/python/blob/main/Ch2_EX1.ipynb\" target=\"_parent\"><img src=\"https://colab.research.google.com/assets/colab-badge.svg\" alt=\"Open In Colab\"/></a>"
      ]
    },
    {
      "cell_type": "markdown",
      "metadata": {
        "id": "DkJdpirI_IRk"
      },
      "source": [
        "문제 1. 사용자에게 이름과 나이를 입력하게 하고 사용자가 100살이 되는 연도를 출력하라."
      ]
    },
    {
      "cell_type": "code",
      "metadata": {
        "id": "NmUxKIfJ_ZVg"
      },
      "source": [
        "name = input(\"이름을 입력하시오: \")\n",
        "age = int(input(\"나이를 입력하시오: \"))\n",
        "year = 2021-age+100\n",
        "print(name + \"씨는\" +str(year) + \"년에 100살이시네요!\")"
      ],
      "execution_count": null,
      "outputs": []
    },
    {
      "cell_type": "markdown",
      "metadata": {
        "id": "jcmTq8VYANmB"
      },
      "source": [
        "문제 2. 사용자로부터 3개의 숫자를 입력받아서 평균을 계산하고 결과를 출력하라."
      ]
    },
    {
      "cell_type": "code",
      "metadata": {
        "id": "S9poUn3R_Tj4"
      },
      "source": [
        "n1 = int(input(\"첫 번째 숫자를 입력하시오.:  \"))\n",
        "n2 = int(input(\"두 번째 숫자를 입력하시오.:  \"))\n",
        "n3 = int(input(\"세 번째 숫자를 입력하시오.:  \"))\n",
        "\n",
        "average = (n1 + n2 + n3) / 3\n",
        "\n",
        "print(n1, n2, n3, \"의 평균은\", average, \"입니다.\")"
      ],
      "execution_count": null,
      "outputs": []
    },
    {
      "cell_type": "markdown",
      "metadata": {
        "id": "Im2P1BTcBAx0"
      },
      "source": [
        "문제 3. 사용자로부터 원의 반지름을 입력받아서 원의 면적을 계산하라."
      ]
    },
    {
      "cell_type": "code",
      "metadata": {
        "id": "Re6yYVyeBGq1"
      },
      "source": [
        "radius = int(input(\"반지름을 입력하시오:  \"))\n",
        "area = 3.141592 * radius * radius\n",
        "print(\"반지름이\", radius, \"인 원의 넓이는\", area, \"입니다.\")"
      ],
      "execution_count": null,
      "outputs": []
    }
  ]
}