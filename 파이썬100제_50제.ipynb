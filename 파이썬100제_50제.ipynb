{
  "nbformat": 4,
  "nbformat_minor": 0,
  "metadata": {
    "colab": {
      "name": "파이썬100제_50제.ipynb",
      "provenance": [],
      "toc_visible": true,
      "authorship_tag": "ABX9TyNIroc5UBHB2OLFFAQuPhRr",
      "include_colab_link": true
    },
    "kernelspec": {
      "name": "python3",
      "display_name": "Python 3"
    },
    "language_info": {
      "name": "python"
    }
  },
  "cells": [
    {
      "cell_type": "markdown",
      "metadata": {
        "id": "view-in-github",
        "colab_type": "text"
      },
      "source": [
        "<a href=\"https://colab.research.google.com/github/yusangmin/python/blob/main/%ED%8C%8C%EC%9D%B4%EC%8D%AC100%EC%A0%9C_50%EC%A0%9C.ipynb\" target=\"_parent\"><img src=\"https://colab.research.google.com/assets/colab-badge.svg\" alt=\"Open In Colab\"/></a>"
      ]
    },
    {
      "cell_type": "markdown",
      "metadata": {
        "id": "7ZveYK_SOL-c"
      },
      "source": [
        "#1\n",
        "문제 1: 리스트의 삭제 다음 리스트에서 400, 500을 삭제하는 코드를 입력하시오. nums = [ 100, 200, 300, 400, 500 ]"
      ]
    },
    {
      "cell_type": "code",
      "metadata": {
        "id": "bAYGUa63MlTy",
        "colab": {
          "base_uri": "https://localhost:8080/"
        },
        "outputId": "07ef88c9-22d2-49ec-d84d-27af8abbfe2f"
      },
      "source": [
        "nums = [100, 200, 300, 400, 500]\n",
        "nums.pop()         # 마지막 500 삭제\n",
        "nums.pop()         # 400 삭제\n",
        "print(nums)"
      ],
      "execution_count": null,
      "outputs": [
        {
          "output_type": "stream",
          "text": [
            "[100, 200, 300, 400]\n"
          ],
          "name": "stdout"
        }
      ]
    },
    {
      "cell_type": "markdown",
      "metadata": {
        "id": "Fi8QDF0GOelm"
      },
      "source": [
        "# 2\n",
        "문제 2: <pass>부분에 리스트 내장함수를 insert를 이용하여 코드를 입력하고 다음과 같이 출력되게 하시오.\n",
        "l = [200, 100, 300]\n",
        "<pass>\n",
        "print(l)"
      ]
    },
    {
      "cell_type": "code",
      "metadata": {
        "colab": {
          "base_uri": "https://localhost:8080/"
        },
        "id": "jLGxxcZ1Oz6b",
        "outputId": "e1984b60-5f96-438b-a678-c18a9248c405"
      },
      "source": [
        "l = [200, 100, 300]\n",
        "l.insert(2, 10000)  # l의 2번째 뒤에 10000을 삽입\n",
        "print(l)"
      ],
      "execution_count": null,
      "outputs": [
        {
          "output_type": "stream",
          "text": [
            "[200, 100, 10000, 300]\n"
          ],
          "name": "stdout"
        }
      ]
    }
  ]
}