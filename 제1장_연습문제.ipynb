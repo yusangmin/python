{
  "nbformat": 4,
  "nbformat_minor": 0,
  "metadata": {
    "colab": {
      "name": "제1장 연습문제.ipynb",
      "provenance": [],
      "authorship_tag": "ABX9TyPuLcEXtibddGKJZrrBx0Ri",
      "include_colab_link": true
    },
    "kernelspec": {
      "name": "python3",
      "display_name": "Python 3"
    },
    "language_info": {
      "name": "python"
    }
  },
  "cells": [
    {
      "cell_type": "markdown",
      "metadata": {
        "id": "view-in-github",
        "colab_type": "text"
      },
      "source": [
        "<a href=\"https://colab.research.google.com/github/yusangmin/python/blob/main/%EC%A0%9C1%EC%9E%A5_%EC%97%B0%EC%8A%B5%EB%AC%B8%EC%A0%9C.ipynb\" target=\"_parent\"><img src=\"https://colab.research.google.com/assets/colab-badge.svg\" alt=\"Open In Colab\"/></a>"
      ]
    },
    {
      "cell_type": "markdown",
      "metadata": {
        "id": "XBZvxP8_j3mj"
      },
      "source": [
        "문제 1. 환영합니다”, “파이썬의 세계에 오선 것을 환영합니다”, “파이썬은 강력합니다.’틀 화면에 출력하는 프로그램을 작성하시오. 스크립트 모드로 실헹한다.\n"
      ]
    },
    {
      "cell_type": "code",
      "metadata": {
        "id": "qa7SBI2vkDNb"
      },
      "source": [
        "print(\"환영합니다.\")\n",
        "print(\"파이썬의 세계에 오신것을 환영합니다.\")\n",
        "print(\"파이썬은 강력합니다.\")"
      ],
      "execution_count": null,
      "outputs": []
    }
  ]
}