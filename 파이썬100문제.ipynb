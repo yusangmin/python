{
  "nbformat": 4,
  "nbformat_minor": 0,
  "metadata": {
    "colab": {
      "name": "파이썬100제_50제.ipynb",
      "provenance": [],
      "authorship_tag": "ABX9TyM2SOUga6ZMftZ+Wl6+WgwD",
      "include_colab_link": true
    },
    "kernelspec": {
      "name": "python3",
      "display_name": "Python 3"
    },
    "language_info": {
      "name": "python"
    }
  },
  "cells": [
    {
      "cell_type": "markdown",
      "metadata": {
        "id": "view-in-github",
        "colab_type": "text"
      },
      "source": [
        "<a href=\"https://colab.research.google.com/github/yusangmin/python/blob/main/%ED%8C%8C%EC%9D%B4%EC%8D%AC100%EB%AC%B8%EC%A0%9C.ipynb\" target=\"_parent\"><img src=\"https://colab.research.google.com/assets/colab-badge.svg\" alt=\"Open In Colab\"/></a>"
      ]
    },
    {
      "cell_type": "code",
      "metadata": {
        "id": "1eouJs39kpiG"
      },
      "source": [
        ""
      ],
      "execution_count": null,
      "outputs": []
    },
    {
      "cell_type": "markdown",
      "metadata": {
        "id": "jKhkMzJ3l3Bo"
      },
      "source": [
        "문제 1: 리스트의 삭제\n",
        "다음 리스트에서 400, 500을 삭제하는 코드를 입력하시오.\n",
        "nums = [ 100, 200, 300, 400, 500 ]"
      ]
    }
  ]
}